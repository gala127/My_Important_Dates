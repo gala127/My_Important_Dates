{
  "nbformat": 4,
  "nbformat_minor": 0,
  "metadata": {
    "colab": {
      "provenance": [],
      "toc_visible": true,
      "authorship_tag": "ABX9TyMyEO6CVRAoqjqGxtIilHh8",
      "include_colab_link": true
    },
    "kernelspec": {
      "name": "python3",
      "display_name": "Python 3"
    },
    "language_info": {
      "name": "python"
    }
  },
  "cells": [
    {
      "cell_type": "markdown",
      "metadata": {
        "id": "view-in-github",
        "colab_type": "text"
      },
      "source": [
        "<a href=\"https://colab.research.google.com/github/gala127/My_Important_Dates/blob/master/Creating_and_Updating_clients'_PostgreSQL_database.ipynb\" target=\"_parent\"><img src=\"https://colab.research.google.com/assets/colab-badge.svg\" alt=\"Open In Colab\"/></a>"
      ]
    },
    {
      "cell_type": "code",
      "execution_count": 2,
      "metadata": {
        "colab": {
          "base_uri": "https://localhost:8080/",
          "height": 687
        },
        "id": "PYILjEUt6jjx",
        "outputId": "50b5ec27-3467-46da-80e9-7835141200de"
      },
      "outputs": [
        {
          "output_type": "stream",
          "name": "stdout",
          "text": [
            "Found existing installation: psycopg2 2.9.10\n",
            "Uninstalling psycopg2-2.9.10:\n",
            "  Would remove:\n",
            "    /usr/local/lib/python3.11/dist-packages/psycopg2-2.9.10.dist-info/*\n",
            "    /usr/local/lib/python3.11/dist-packages/psycopg2/*\n",
            "Proceed (Y/n)? y\n",
            "  Successfully uninstalled psycopg2-2.9.10\n",
            "Collecting psycopg2\n",
            "  Using cached psycopg2-2.9.10-cp311-cp311-linux_x86_64.whl\n",
            "Installing collected packages: psycopg2\n",
            "Successfully installed psycopg2-2.9.10\n"
          ]
        },
        {
          "output_type": "display_data",
          "data": {
            "application/vnd.colab-display-data+json": {
              "pip_warning": {
                "packages": [
                  "psycopg2"
                ]
              },
              "id": "df95853a510543878acdec21dd8aa0d8"
            }
          },
          "metadata": {}
        },
        {
          "output_type": "error",
          "ename": "OperationalError",
          "evalue": "connection to server at \"127.0.0.1\", port 5432 failed: Connection refused\n\tIs the server running on that host and accepting TCP/IP connections?\n",
          "traceback": [
            "\u001b[0;31m---------------------------------------------------------------------------\u001b[0m",
            "\u001b[0;31mOperationalError\u001b[0m                          Traceback (most recent call last)",
            "\u001b[0;32m<ipython-input-2-c88112e92787>\u001b[0m in \u001b[0;36m<cell line: 0>\u001b[0;34m()\u001b[0m\n\u001b[1;32m      7\u001b[0m \u001b[0;34m\u001b[0m\u001b[0m\n\u001b[1;32m      8\u001b[0m \u001b[0;31m# Connect to the PostgreSQL database (should be real port number)\u001b[0m\u001b[0;34m\u001b[0m\u001b[0;34m\u001b[0m\u001b[0m\n\u001b[0;32m----> 9\u001b[0;31m conn = psycopg2.connect(\n\u001b[0m\u001b[1;32m     10\u001b[0m     \u001b[0mdbname\u001b[0m\u001b[0;34m=\u001b[0m\u001b[0;34m\"Surkov_works\"\u001b[0m\u001b[0;34m,\u001b[0m\u001b[0;34m\u001b[0m\u001b[0;34m\u001b[0m\u001b[0m\n\u001b[1;32m     11\u001b[0m     \u001b[0muser\u001b[0m\u001b[0;34m=\u001b[0m\u001b[0;34m\"your_username\"\u001b[0m\u001b[0;34m,\u001b[0m\u001b[0;34m\u001b[0m\u001b[0;34m\u001b[0m\u001b[0m\n",
            "\u001b[0;32m/usr/local/lib/python3.11/dist-packages/psycopg2/__init__.py\u001b[0m in \u001b[0;36mconnect\u001b[0;34m(dsn, connection_factory, cursor_factory, **kwargs)\u001b[0m\n\u001b[1;32m    120\u001b[0m \u001b[0;34m\u001b[0m\u001b[0m\n\u001b[1;32m    121\u001b[0m     \u001b[0mdsn\u001b[0m \u001b[0;34m=\u001b[0m \u001b[0m_ext\u001b[0m\u001b[0;34m.\u001b[0m\u001b[0mmake_dsn\u001b[0m\u001b[0;34m(\u001b[0m\u001b[0mdsn\u001b[0m\u001b[0;34m,\u001b[0m \u001b[0;34m**\u001b[0m\u001b[0mkwargs\u001b[0m\u001b[0;34m)\u001b[0m\u001b[0;34m\u001b[0m\u001b[0;34m\u001b[0m\u001b[0m\n\u001b[0;32m--> 122\u001b[0;31m     \u001b[0mconn\u001b[0m \u001b[0;34m=\u001b[0m \u001b[0m_connect\u001b[0m\u001b[0;34m(\u001b[0m\u001b[0mdsn\u001b[0m\u001b[0;34m,\u001b[0m \u001b[0mconnection_factory\u001b[0m\u001b[0;34m=\u001b[0m\u001b[0mconnection_factory\u001b[0m\u001b[0;34m,\u001b[0m \u001b[0;34m**\u001b[0m\u001b[0mkwasync\u001b[0m\u001b[0;34m)\u001b[0m\u001b[0;34m\u001b[0m\u001b[0;34m\u001b[0m\u001b[0m\n\u001b[0m\u001b[1;32m    123\u001b[0m     \u001b[0;32mif\u001b[0m \u001b[0mcursor_factory\u001b[0m \u001b[0;32mis\u001b[0m \u001b[0;32mnot\u001b[0m \u001b[0;32mNone\u001b[0m\u001b[0;34m:\u001b[0m\u001b[0;34m\u001b[0m\u001b[0;34m\u001b[0m\u001b[0m\n\u001b[1;32m    124\u001b[0m         \u001b[0mconn\u001b[0m\u001b[0;34m.\u001b[0m\u001b[0mcursor_factory\u001b[0m \u001b[0;34m=\u001b[0m \u001b[0mcursor_factory\u001b[0m\u001b[0;34m\u001b[0m\u001b[0;34m\u001b[0m\u001b[0m\n",
            "\u001b[0;31mOperationalError\u001b[0m: connection to server at \"127.0.0.1\", port 5432 failed: Connection refused\n\tIs the server running on that host and accepting TCP/IP connections?\n"
          ]
        }
      ],
      "source": [
        "#This script will create a PostgreSQL table with restricted fields for clients, specifically for storing nickname and password.\n",
        "!pip uninstall psycopg2\n",
        "#python\n",
        "!pip install psycopg2\n",
        "\n",
        "import psycopg2\n",
        "\n",
        "# Connect to the PostgreSQL database (should be real port number)\n",
        "conn = psycopg2.connect(\n",
        "    dbname=\"Surkov_works\",\n",
        "    user=\"your_username\",\n",
        "    password=\"your_password\",\n",
        "    host=\"127.0.0.1\", #local_host\"\n",
        "    port=\"5432\"\n",
        ")\n",
        "\n",
        "# Create a cursor object\n",
        "cur = conn.cursor()\n",
        "\n",
        "# Create a table with restricted fields for client data (nickname and password)\n",
        "cur.execute(\"\"\"\n",
        "    CREATE TABLE IF NOT EXISTS clients (\n",
        "        client_id SERIAL PRIMARY KEY,\n",
        "        nickname TEXT,\n",
        "        password TEXT\n",
        "    )\n",
        "\"\"\")\n",
        "\n",
        "# Commit the changes\n",
        "conn.commit()\n",
        "\n",
        "# Close the cursor and connection\n",
        "cur.close()\n",
        "conn.close()\n",
        "\n",
        "print(\"PostgreSQL database table 'clients' created with restricted fields nickname and password.\")\n",
        "#\n",
        "\n",
        "#Script 2: Add New Clients with Limited Information, Check if New or Returning, and Handle Description of Client's Problem**\n",
        "#This script will add new clients with limited information (nickname and password), check if the client is new or returning, and prompt for a description of the client's problem.\n",
        "\n",
        "#python\n",
        "import psycopg2\n",
        "import uuid\n",
        "\n",
        "# Connect to the PostgreSQL database\n",
        "conn = psycopg2.connect(\n",
        "    dbname=\"Surkov_works\",\n",
        "    user=\"your_username\",\n",
        "    password=\"your_password\",\n",
        "    host=\"127.0.0.1\", #Ваш Хост\n",
        "    port=\"5432\" # Ваш порт\n",
        ")\n",
        "\n",
        "# Create a cursor object\n",
        "cur = conn.cursor()\n",
        "\n",
        "# Get nickname and password from the client\n",
        "nickname = input(\"Enter your nickname: \")\n",
        "password = input(\"Enter your password: \")\n",
        "\n",
        "# Check if the client exists in the database\n",
        "cur.execute(\"SELECT client_id FROM clients WHERE nickname = %s\", (nickname,))\n",
        "existing_client = cur.fetchone()\n",
        "\n",
        "if existing_client:\n",
        "    print(f\"Welcome back, {nickname}!\")\n",
        "    # Add more logic for returning clients if needed\n",
        "else:\n",
        "    # Insert the new client's limited data into the database\n",
        "    cur.execute(\"INSERT INTO clients (nickname, password) VALUES (%s, %s)\", (nickname, password)) #Добавить остальные поля\n",
        "    print(\"New client added successfully.\")\n",
        "\n",
        "    # Ask for the client's problem description\n",
        "    problem_description = input(\"Describe your problem: \") #пока инпутом\n",
        "    # Process and store the problem description as needed\n",
        "\n",
        "# Commit the transaction\n",
        "conn.commit()\n",
        "\n",
        "# Close the cursor and connection\n",
        "cur.close()\n",
        "conn.close()\n",
        "\n",
        "print(\"PostgreSQL database table 'clients' updated with restricted fields nickname and password.\")\n"
      ]
    }
  ]
}